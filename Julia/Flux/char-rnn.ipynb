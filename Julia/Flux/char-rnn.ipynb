{
 "cells": [
  {
   "cell_type": "code",
   "execution_count": null,
   "metadata": {},
   "outputs": [],
   "source": [
    "using Flux\n",
    "using Flux: onehot, chunk, batchseq, throttle, crossentropy\n",
    "using StatsBase: wsample\n",
    "using Base.Iterators: partition"
   ]
  },
  {
   "cell_type": "code",
   "execution_count": null,
   "metadata": {},
   "outputs": [],
   "source": [
    "cd(@__DIR__)\n",
    "isfile(\"input.txt\") ||\n",
    "  download(\"https://cs.stanford.edu/people/karpathy/char-rnn/shakespeare_input.txt\",\n",
    "           \"input.txt\")"
   ]
  },
  {
   "cell_type": "code",
   "execution_count": null,
   "metadata": {},
   "outputs": [],
   "source": [
    "io = open(\"input.txt\", \"r\")\n",
    "text = collect(read(io, String))"
   ]
  },
  {
   "cell_type": "markdown",
   "metadata": {},
   "source": [
    "* In the above cell:\n",
    "  1. [read(io, String)](https://docs.julialang.org/en/v1/base/io-network/#Base.read) will read the whole context of the input file as a String.\n",
    "  1. [collect](https://docs.julialang.org/en/v1/base/collections/#Base.collect-Tuple{Type,Any}) is a JPL's built-in function."
   ]
  },
  {
   "cell_type": "code",
   "execution_count": null,
   "metadata": {},
   "outputs": [],
   "source": [
    "alphabet = [unique(text)..., '_']"
   ]
  },
  {
   "cell_type": "markdown",
   "metadata": {},
   "source": [
    "* The syntax [[]](https://docs.julialang.org/en/v1/manual/functions/#Operators-With-Special-Names-1) is `hcat`.\n",
    "  * In, JPL [operators are functions](https://docs.julialang.org/en/v1/manual/functions/#Operators-Are-Functions-1). One can apply them using parenthesized argument lists, just as you would any other function."
   ]
  },
  {
   "cell_type": "code",
   "execution_count": null,
   "metadata": {},
   "outputs": [],
   "source": [
    "text = map(ch -> onehot(ch, alphabet), text)\n",
    "stop = onehot('_', alphabet)"
   ]
  },
  {
   "cell_type": "markdown",
   "metadata": {},
   "source": [
    "* `ch -> onehot(ch, alphabet)` is JPL's [anonymous functions](https://docs.julialang.org/en/v0.6.1/manual/functions/#man-anonymous-functions-1).\n",
    "* `onehot` is a function implemented in Flux. It converts a word into its index in the dictionary."
   ]
  },
  {
   "cell_type": "code",
   "execution_count": null,
   "metadata": {},
   "outputs": [],
   "source": [
    "N = length(alphabet)\n",
    "\n",
    "seqlen = 50\n",
    "nbatch = 50\n",
    "\n",
    "Xs = collect(partition(batchseq(chunk(text, nbatch), stop), seqlen))\n",
    "Ys = collect(partition(batchseq(chunk(text[2:end], nbatch), stop), seqlen))"
   ]
  },
  {
   "cell_type": "markdown",
   "metadata": {},
   "source": [
    "* [partition](https://docs.julialang.org/en/v1/base/iterators/#Base.Iterators.partition) is a built-in function in JPL. It iterates over a collection _n_ elements at a time."
   ]
  },
  {
   "cell_type": "code",
   "execution_count": null,
   "metadata": {},
   "outputs": [],
   "source": [
    "m = Chain(\n",
    "  LSTM(N, 128),\n",
    "  LSTM(128, 128),\n",
    "  Dense(128, N),\n",
    "  softmax)\n",
    "m = gpu(m)\n",
    "\n",
    "function loss(xs, ys)\n",
    "  l = sum(crossentropy.(m.(gpu.(xs)), gpu.(ys)))\n",
    "  Flux.truncate!(m)\n",
    "  return l\n",
    "end\n",
    "\n",
    "opt = ADAM(params(m), 0.01)\n",
    "tx, ty = (gpu.(Xs[5]), gpu.(Ys[5]))\n",
    "evalcb = () -> @show loss(tx, ty)\n",
    "\n",
    "Flux.train!(loss, zip(Xs, Ys), opt,\n",
    "            cb = throttle(evalcb, 30))\n",
    "\n",
    "# Sampling\n",
    "m = cpu(m)\n",
    "\n",
    "function sample(m, alphabet, len; temp = 1)\n",
    "  Flux.reset!(m)\n",
    "  buf = IOBuffer()\n",
    "  c = rand(alphabet)\n",
    "  for i = 1:len\n",
    "    write(buf, c)\n",
    "    c = wsample(alphabet, m(onehot(c, alphabet)).data)\n",
    "  end\n",
    "  return String(take!(buf))\n",
    "end\n",
    "\n",
    "sample(m, alphabet, 1000) |> println\n",
    "\n",
    "# evalcb = function ()\n",
    "#   @show loss(Xs[5], Ys[5])\n",
    "#   println(sample(deepcopy(m), alphabet, 100))\n",
    "# end"
   ]
  }
 ],
 "metadata": {
  "kernelspec": {
   "display_name": "Julia 1.0.0",
   "language": "julia",
   "name": "julia-1.0"
  },
  "language_info": {
   "file_extension": ".jl",
   "mimetype": "application/julia",
   "name": "julia",
   "version": "1.0.0"
  }
 },
 "nbformat": 4,
 "nbformat_minor": 2
}
