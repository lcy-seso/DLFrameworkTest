{
 "cells": [
  {
   "cell_type": "code",
   "execution_count": null,
   "metadata": {},
   "outputs": [],
   "source": [
    "using Flux\n",
    "using Flux: onehot, chunk, batchseq, throttle, crossentropy\n",
    "using StatsBase: wsample\n",
    "using Base.Iterators: partition"
   ]
  },
  {
   "cell_type": "code",
   "execution_count": null,
   "metadata": {},
   "outputs": [],
   "source": [
    "cd(@__DIR__)\n",
    "isfile(\"input.txt\") ||\n",
    "  download(\"https://cs.stanford.edu/people/karpathy/char-rnn/shakespeare_input.txt\",\n",
    "           \"input.txt\")"
   ]
  },
  {
   "cell_type": "code",
   "execution_count": null,
   "metadata": {},
   "outputs": [],
   "source": [
    "io = open(\"input.txt\", \"r\")\n",
    "text = collect(read(io, String))"
   ]
  },
  {
   "cell_type": "markdown",
   "metadata": {},
   "source": [
    "* In the above cell:\n",
    "  1. [read(io, String)](https://docs.julialang.org/en/v1/base/io-network/#Base.read) will read the whole context of the input file as a String.\n",
    "  1. [collect](https://docs.julialang.org/en/v1/base/collections/#Base.collect-Tuple{Any}) is a JPL's built-in function which return an `Array` of all items in a collection or iterator."
   ]
  },
  {
   "cell_type": "code",
   "execution_count": null,
   "metadata": {},
   "outputs": [],
   "source": [
    "alphabet = [unique(text)..., '_']"
   ]
  },
  {
   "cell_type": "markdown",
   "metadata": {},
   "source": [
    "* The syntax [[]](https://docs.julialang.org/en/v1/manual/functions/#Operators-With-Special-Names-1) is `hcat`.\n",
    "  * In, JPL [operators are functions](https://docs.julialang.org/en/v1/manual/functions/#Operators-Are-Functions-1). One can apply them using parenthesized argument lists, just as you would any other function."
   ]
  },
  {
   "cell_type": "code",
   "execution_count": null,
   "metadata": {},
   "outputs": [],
   "source": [
    "stop = onehot('_', alphabet)\n",
    "text = map(ch -> onehot(ch, alphabet), text)"
   ]
  },
  {
   "cell_type": "markdown",
   "metadata": {},
   "source": [
    "* `ch -> onehot(ch, alphabet)` is JPL's [anonymous functions](https://docs.julialang.org/en/v0.6.1/manual/functions/#man-anonymous-functions-1).\n",
    "* [onehot](https://github.com/FluxML/Flux.jl/blob/953280d57f45e1570ef2476b7818216241144187/docs/src/data/onehot.md#one-hot-encoding) is a function implemented in Flux. It converts a word into its index in the dictionary."
   ]
  },
  {
   "cell_type": "code",
   "execution_count": null,
   "metadata": {},
   "outputs": [],
   "source": [
    "@show N = length(alphabet)\n",
    "\n",
    "seqlen = 5\n",
    "nbatch = 2\n",
    "\n",
    "Xs = collect(partition(batchseq(chunk(text, nbatch), stop), seqlen))\n",
    "Ys = collect(partition(batchseq(chunk(text[2:end], nbatch), stop), seqlen))"
   ]
  },
  {
   "cell_type": "markdown",
   "metadata": {},
   "source": [
    "* [chunk](https://github.com/FluxML/Flux.jl/blob/master/src/utils.jl#L25)\n",
    "* [batchseq](https://github.com/FluxML/Flux.jl/blob/master/src/utils.jl#L79)\n",
    "* [partition](https://docs.julialang.org/en/v1/base/iterators/#Base.Iterators.partition) is a built-in function in JPL. It iterates over a collection _n_ elements at a time.\n",
    "* [collect](https://docs.julialang.org/en/v1/base/collections/#Base.collect-Tuple{Any})\n",
    "* Here types of `Xs` and `Ys` are `Array{Flux.OneHotMatrix{Array{Flux.OneHotVector,1}},1}`."
   ]
  },
  {
   "cell_type": "code",
   "execution_count": null,
   "metadata": {},
   "outputs": [],
   "source": [
    "m = Chain(\n",
    "  LSTM(N, 128),\n",
    "  LSTM(128, 128),\n",
    "  Dense(128, N),\n",
    "  softmax)\n",
    "\n",
    "function loss(xs, ys)\n",
    "  l = sum(crossentropy.(m.(xs), ys))\n",
    "  Flux.truncate!(m)\n",
    "  return l\n",
    "end\n",
    "\n",
    "opt = ADAM(params(m), 0.01)\n",
    "tx, ty = (Xs[1], Ys[1])\n",
    "evalcb = () -> @show loss(tx, ty)\n",
    "\n",
    "Flux.train!(loss, zip(Xs, Ys), opt,\n",
    "            cb = throttle(evalcb, 30))"
   ]
  }
 ],
 "metadata": {
  "kernelspec": {
   "display_name": "Julia 1.0.0",
   "language": "julia",
   "name": "julia-1.0"
  },
  "language_info": {
   "file_extension": ".jl",
   "mimetype": "application/julia",
   "name": "julia",
   "version": "1.0.0"
  }
 },
 "nbformat": 4,
 "nbformat_minor": 2
}
