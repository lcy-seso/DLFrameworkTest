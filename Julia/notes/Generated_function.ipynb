{
 "cells": [
  {
   "cell_type": "markdown",
   "metadata": {},
   "source": [
    "# [generated functions](https://docs.julialang.org/en/v1/manual/metaprogramming/#Generated-functions-1)\n",
    "\n",
    "### What is \"generated functions\"\n",
    "\n",
    "1. Generate specialized code depending on the _**types of their arguments**_.\n",
    "    - _**[Types in JPL](https://docs.julialang.org/en/v1.0/manual/types/) has many unique characteristics, this may enable many potentials**_.\n",
    "1. A generated function declaration **returns a quoted expression** which then forms the body for the method corresponding to the types of the arguments.\n",
    "    - _**[Quoting](https://docs.julialang.org/en/v1.0/devdocs/ast/#Quote-expressions-1)**_: create an expression object without using explicit `Expr` constructor.\n",
    "1. When a `generated function` is called, the expression it returns is compiled and then run.\n",
    "    - To make this efficient, the compiled result is usually cached.\n",
    "    - To make this inferable, only a limited subset of the language is usable.\n",
    "\n",
    "### Why \"generated functions\"\n",
    "\n",
    ">**Generated functions provide a flexible way to move work from run time to compile time, at the expense of greater restrictions on allowed constructs.**\n",
    "\n",
    "`Generated functions` provide a way to implement specialized codes with _**more flexibility**_ and/or _**less code**_ than what can be achieved with multiple dispatch.\n",
    "\n",
    "- `macros` work with expressions **at parse time** and cannot access the types of their inputs\n",
    "- a `generated function` gets expanded at a time when the **types of the arguments are known**, but the **function is not yet compiled**."
   ]
  },
  {
   "cell_type": "code",
   "execution_count": 1,
   "metadata": {},
   "outputs": [
    {
     "data": {
      "text/plain": [
       "foo (generic function with 1 method)"
      ]
     },
     "execution_count": 1,
     "metadata": {},
     "output_type": "execute_result"
    }
   ],
   "source": [
    "@generated function foo(x)\n",
    "    Core.println(x)  # when this line is executed, x is the type of the input\n",
    "    # return :(x * x)\n",
    "    quote\n",
    "        Core.println(x)  # NOTE: This should not be used in real world codes.\n",
    "                         # Generated functions should not have side effects.\n",
    "        x * x\n",
    "    end\n",
    "end"
   ]
  },
  {
   "cell_type": "markdown",
   "metadata": {},
   "source": [
    "1. In the body of the generated function `x` is **the type of the passed argument**.\n",
    "1. The value returned by the generated function, is the result of **evaluating the quoted expression** we returned from the definition.\n",
    "\n",
    "Let's see the below example:"
   ]
  },
  {
   "cell_type": "code",
   "execution_count": 2,
   "metadata": {},
   "outputs": [
    {
     "name": "stdout",
     "output_type": "stream",
     "text": [
      "Int64\n",
      "2\n"
     ]
    },
    {
     "data": {
      "text/plain": [
       "4"
      ]
     },
     "execution_count": 2,
     "metadata": {},
     "output_type": "execute_result"
    }
   ],
   "source": [
    "x = foo(2)  # Int64 is printed by Core.println\n",
    "            # 4 is the result of evaluating the returned expression."
   ]
  },
  {
   "cell_type": "code",
   "execution_count": 3,
   "metadata": {},
   "outputs": [
    {
     "data": {
      "text/plain": [
       "4"
      ]
     },
     "execution_count": 3,
     "metadata": {},
     "output_type": "execute_result"
    }
   ],
   "source": [
    "x  # returned value of a generated function is the result of evaluating the quoted expression."
   ]
  },
  {
   "cell_type": "code",
   "execution_count": 4,
   "metadata": {},
   "outputs": [
    {
     "name": "stdout",
     "output_type": "stream",
     "text": [
      "String\n",
      "hello world \n"
     ]
    },
    {
     "data": {
      "text/plain": [
       "\"hello world hello world \""
      ]
     },
     "execution_count": 4,
     "metadata": {},
     "output_type": "execute_result"
    }
   ],
   "source": [
    "# Let's see another example.\n",
    "y = foo(\"hello world \")"
   ]
  },
  {
   "cell_type": "markdown",
   "metadata": {},
   "source": [
    "**Evaluate `foo` again with a type that we have already used**!"
   ]
  },
  {
   "cell_type": "code",
   "execution_count": 5,
   "metadata": {},
   "outputs": [
    {
     "name": "stdout",
     "output_type": "stream",
     "text": [
      "4\n"
     ]
    },
    {
     "data": {
      "text/plain": [
       "16"
      ]
     },
     "execution_count": 5,
     "metadata": {},
     "output_type": "execute_result"
    }
   ],
   "source": [
    "foo(4)  # There is no printout of \"Int64\"\n",
    "        # The body of the generated function was only executed once here for the specific set of argument types, and the result was cached.\n",
    "        # Expression returned from the generated function on the first invocation was re-used as the method body."
   ]
  },
  {
   "cell_type": "markdown",
   "metadata": {},
   "source": [
    ">the power of a generated function lies in its ability to compute different quoted expressions depending on the types passed to it.\n",
    "\n",
    "### Principle of generated function\n",
    "\n",
    "- A correct @generated function **must not** observe any mutable state or cause any mutation of global state.\n",
    "- Should never write a generated function with [side effects](https://en.wikipedia.org/wiki/Side_effect_(computer_science))."
   ]
  },
  {
   "cell_type": "markdown",
   "metadata": {},
   "source": [
    "_**In the code snippet below, the parameter `N` is interesting. See the document for [Value types](https://docs.julialang.org/en/v1.0/manual/types/#%22Value-types%22-1) for the reference.**_"
   ]
  },
  {
   "cell_type": "code",
   "execution_count": 11,
   "metadata": {},
   "outputs": [
    {
     "data": {
      "text/plain": [
       "23"
      ]
     },
     "execution_count": 11,
     "metadata": {},
     "output_type": "execute_result"
    }
   ],
   "source": [
    "function sub2ind_loop(dims::NTuple{N}, I::Integer...) where N\n",
    "    ind = I[N] - 1\n",
    "    for i = N - 1 : -1 : 1\n",
    "        ind = I[i] - 1 + dims[i] * ind\n",
    "    end\n",
    "    return ind + 1\n",
    "end\n",
    "\n",
    "sub2ind_loop((7, 5), 2, 4)"
   ]
  },
  {
   "cell_type": "markdown",
   "metadata": {},
   "source": [
    "- All the information needed for the loop is embedded in the type information of the arguments.\n",
    "- It is possible to utilize generated functions to move the iteration to compile-time."
   ]
  },
  {
   "cell_type": "code",
   "execution_count": 12,
   "metadata": {},
   "outputs": [
    {
     "data": {
      "text/plain": [
       "sub2ind_gen (generic function with 1 method)"
      ]
     },
     "execution_count": 12,
     "metadata": {},
     "output_type": "execute_result"
    }
   ],
   "source": [
    "@generated function sub2ind_gen(dims::NTuple{N}, I::Integer...) where N\n",
    "    ex = :(I[$N] - 1)\n",
    "    for i = (N - 1) : -1 :1\n",
    "        ex = :(I[$i] - 1 + dims[$i] * $ex)\n",
    "    end\n",
    "    return :($ex + 1)\n",
    "end"
   ]
  },
  {
   "cell_type": "markdown",
   "metadata": {},
   "source": [
    "**What code will this generated function generates? An easy way to find out is to extract its body into another (regular) function:**"
   ]
  },
  {
   "cell_type": "code",
   "execution_count": 24,
   "metadata": {},
   "outputs": [
    {
     "name": "stdout",
     "output_type": "stream",
     "text": [
      "ans = :(((I[1] - 1) + dims[1] * ((I[2] - 1) + dims[2] * ((I[3] - 1) + dims[3] * (I[4] - 1)))) + 1)\n"
     ]
    },
    {
     "data": {
      "text/plain": [
       ":(((I[1] - 1) + dims[1] * ((I[2] - 1) + dims[2] * ((I[3] - 1) + dims[3] * (I[4] - 1)))) + 1)"
      ]
     },
     "execution_count": 24,
     "metadata": {},
     "output_type": "execute_result"
    }
   ],
   "source": [
    "function sub2ind_gen_impl(dims::Type{T}, I...) where T <: NTuple{N, Any} where N\n",
    "    @show T\n",
    "    @show N\n",
    "\n",
    "    length(I) == N || return :(error(\"partial indexing is unsupported\"))\n",
    "    ex = :(I[$N] - 1)\n",
    "    for i = (N - 1):-1:1\n",
    "        ex = :(I[$i] - 1 + dims[$i] * $ex)\n",
    "    end\n",
    "    return :($ex + 1)\n",
    "end\n",
    "\n",
    "@show ans"
   ]
  },
  {
   "cell_type": "code",
   "execution_count": 25,
   "metadata": {},
   "outputs": [
    {
     "name": "stdout",
     "output_type": "stream",
     "text": [
      "T = NTuple{4,Int64}\n",
      "N = 4\n"
     ]
    },
    {
     "data": {
      "text/plain": [
       ":(((I[1] - 1) + dims[1] * ((I[2] - 1) + dims[2] * ((I[3] - 1) + dims[3] * (I[4] - 1)))) + 1)"
      ]
     },
     "execution_count": 25,
     "metadata": {},
     "output_type": "execute_result"
    }
   ],
   "source": [
    "@generated function sub2ind_gen(dims::NTuple{N}, I::Integer...) where N\n",
    "    return sub2ind_gen_impl(dims, I...)\n",
    "end\n",
    "\n",
    "sub2ind_gen_impl(Tuple{Int, Int, Int, Int}, Int, Int, Int, Int)"
   ]
  }
 ],
 "metadata": {
  "kernelspec": {
   "display_name": "Julia 1.0.0",
   "language": "julia",
   "name": "julia-1.0"
  },
  "language_info": {
   "file_extension": ".jl",
   "mimetype": "application/julia",
   "name": "julia",
   "version": "1.0.0"
  }
 },
 "nbformat": 4,
 "nbformat_minor": 2
}
