{
 "cells": [
  {
   "cell_type": "markdown",
   "metadata": {},
   "source": [
    "# [Julia ASTs](https://docs.julialang.org/en/v1.0/devdocs/ast/)\n",
    "\n",
    "Julia has two representations of code.\n",
    "\n",
    "1. The surface syntax AST returned by the parser (e.g. the `Meta.parse` function), and manipulated by macros.\n",
    "    - It is a structured representation of code as it is written, constructed by `julia-parser.scm` from a character stream.\n",
    "1. The lowered form constructed by `julia-syntax.scm`, or IR (intermediate representation), which is used by _**type inference**_ and _**code generation**_.\n",
    "    - In the lowered form there are fewer types of nodes:\n",
    "        - all macros are expanded\n",
    "        - all control flow is converted to explicit branches and sequences of statements\n",
    "\n",
    ">_**The lowered form is more important to the compiler, but less obvious to the human, since it results from a significant rearrangement of the input syntax.**_\n",
    "\n",
    "## Data types exist in lowered form:\n",
    "\n",
    "**[TODO] This part is too abstract to understand. I will revisit it again after I have some concrete code snippets.**\n",
    "\n",
    "- `Expr`, Also see this documentation for reference: _[program representation](https://docs.julialang.org/en/v1/manual/metaprogramming/#Program-representation-1)_.\n",
    "\n",
    "    - _The below sentence is in the documentation, but I cannot understand very well._\n",
    "        > While almost every part of a surface AST is represented by an Expr, the IR uses only a limited number of Exprs, mostly for calls, conditional branches (gotoifnot), and returns."
   ]
  },
  {
   "cell_type": "code",
   "execution_count": 9,
   "metadata": {},
   "outputs": [
    {
     "name": "stdout",
     "output_type": "stream",
     "text": [
      "typeof(prog) = Expr\n",
      "typeof(prog.head) = Symbol\n",
      "typeof(prog.args) = Array{Any,1}\n"
     ]
    }
   ],
   "source": [
    "prog = :(1 + 1)\n",
    "\n",
    "@show typeof(prog)  # Expr is a type in lowered form AST.\n",
    "\n",
    "@show typeof(prog.head)\n",
    "@show typeof(prog.args);"
   ]
  },
  {
   "cell_type": "markdown",
   "metadata": {},
   "source": [
    "# [Julia SSA-form IR](https://docs.julialang.org/en/v1.0/devdocs/ssair/)\n",
    "\n",
    ">_Beginning in Julia 0.7, **parts** of the compiler use a new SSA-form intermediate representation._\n",
    "\n",
    "[TODO] _**what parts?**_\n",
    "\n",
    "- Historically, the compiler used to directly generate LLVM IR, from a lowered form of the Julia AST.\n",
    "    - This IR had most syntactic abstractions removed, but still looked a lot like an abstract syntax tree.\n",
    "\n",
    "- In order to facilitate optimizations, SSA values were introduced to the lowered form IR and the IR was linearized\n",
    "    - i.e. a form where function arguments may only be SSA values or constants.\n",
    "\n",
    "## Four new IR nodes in SSA format\n",
    "\n",
    "SSA format introduces four IR nodes:\n",
    "\n",
    "- Phi nodes, Pi nodes\n",
    "- PhiC nodes and Upsilon nodes: only used for exception handling\n",
    "\n",
    "### Phi node and Pi note\n",
    "\n",
    "Pi and Phi nodes in the IR are necessary for [back-edges](https://stackoverflow.com/questions/44494426/back-edges-in-a-graph/44494705) and re-merging of conditional control flow.\n",
    "\n",
    "- _**Why Phi and Pi node**_\n",
    "\n",
    "    _**Non-ssa values (slots, see [this documentation](https://docs.julialang.org/en/v1.0/devdocs/ast/#Lowered-form-1) for the explanatioin of slots)**_ in the IR negate much of the usefulfulness of the SSA form representation to perform middle end optimization."
   ]
  },
  {
   "cell_type": "code",
   "execution_count": null,
   "metadata": {},
   "outputs": [],
   "source": []
  }
 ],
 "metadata": {
  "kernelspec": {
   "display_name": "Julia 1.0.0",
   "language": "julia",
   "name": "julia-1.0"
  },
  "language_info": {
   "file_extension": ".jl",
   "mimetype": "application/julia",
   "name": "julia",
   "version": "1.0.0"
  }
 },
 "nbformat": 4,
 "nbformat_minor": 2
}
