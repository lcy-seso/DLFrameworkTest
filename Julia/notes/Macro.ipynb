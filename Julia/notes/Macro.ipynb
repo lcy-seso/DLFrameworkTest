{
 "cells": [
  {
   "cell_type": "markdown",
   "metadata": {},
   "source": [
    "# [Metaprogramming](https://docs.julialang.org/en/v1/manual/metaprogramming/index.html)\n",
    "\n",
    "## Expression\n",
    "\n",
    "Julia represents its own code as a data structure of the language itself.\n",
    "1. Every Julia program starts life as a string, and then the next step is to parse each string into an object called an expression: `Expr`.\n",
    "1. `Expr` object has two parts:\n",
    "    * a `Symbol`: identifys the kind of expression\n",
    "    * the expression arguments: may be symbols, other expressions, or literal values\n",
    "\n",
    "    ```julia\n",
    "    # here type(ex) returns Expr\n",
    "    ex.head    # returns Symbol part of ex1\n",
    "    ex.args    # returns the expression argument part of ex1\n",
    "    ```\n",
    "\n",
    "1. two ways to construct `Expr`\n",
    "    * by parsing\n",
    "    * by direct construction from prefix notation\n",
    "\n",
    "_**The key point here is that Julia code is internally represented as a data structure that is accessible from the language itself.**_\n",
    "\n",
    "Expressions are just `Expr` objects which can be constructed programmatically and then evaluated, it is possible to dynamically generate arbitrary code which can then be run using `eval`."
   ]
  },
  {
   "cell_type": "code",
   "execution_count": null,
   "metadata": {},
   "outputs": [],
   "source": [
    "# Expr by parsing\n",
    "\n",
    "prog = \"1 + 1\"\n",
    "ex1 = Meta.parse(prog)\n",
    "\n",
    "# Expr from prefix notation\n",
    "ex2 = Expr(:call, :+, 1, 1)\n",
    "\n",
    "@show ex1 == ex2\n",
    "\n",
    "@show typeof(ex1)\n",
    "@show ex1.head\n",
    "@show ex1.args;"
   ]
  },
  {
   "cell_type": "markdown",
   "metadata": {},
   "source": [
    "`:` in Julia has two functions:\n",
    "\n",
    "1. _**create a `Symbol`**_\n",
    "1. _**quoting: create expression objects without using the explicit `Expr` constructor**_\n",
    "    * The usual representation of a quote form in an AST is an `Expr` with head `:quote:`"
   ]
  },
  {
   "cell_type": "code",
   "execution_count": 26,
   "metadata": {},
   "outputs": [
    {
     "data": {
      "text/plain": [
       "Expr"
      ]
     },
     "execution_count": 26,
     "metadata": {},
     "output_type": "execute_result"
    }
   ],
   "source": [
    ":foo  # this creates a JPL Symbol\n",
    "\n",
    "typeof(ans)"
   ]
  },
  {
   "cell_type": "code",
   "execution_count": 23,
   "metadata": {},
   "outputs": [
    {
     "data": {
      "text/plain": [
       "Expr"
      ]
     },
     "execution_count": 23,
     "metadata": {},
     "output_type": "execute_result"
    }
   ],
   "source": [
    "ex = :(a+b*c+1)  # this creates an JPL expression\n",
    "\n",
    "typeof(ex)"
   ]
  },
  {
   "cell_type": "code",
   "execution_count": 24,
   "metadata": {},
   "outputs": [
    {
     "data": {
      "text/plain": [
       "quote\n",
       "    #= In[24]:4 =#\n",
       "    x = 1\n",
       "    #= In[24]:5 =#\n",
       "    y = 2\n",
       "    #= In[24]:6 =#\n",
       "    x + y\n",
       "end"
      ]
     },
     "execution_count": 24,
     "metadata": {},
     "output_type": "execute_result"
    }
   ],
   "source": [
    "# Quoting for multiple expressions\n",
    "ex = quote\n",
    "        x = 1\n",
    "        y = 2\n",
    "        x + y\n",
    "     end"
   ]
  },
  {
   "cell_type": "markdown",
   "metadata": {},
   "source": [
    "## Interpolation\n",
    "\n",
    "Interpolation of literals or expressions into quoted expressions. Interpolation is indicated by a prefix `$`.\n",
    "\n",
    "* Julia allows interpolation of literals or expressions into quoted expressions\n",
    "* `$` interpolation syntax allows inserting only a single expression into an enclosing expression. \n",
    "\n",
    "## `Eval`\n",
    "\n",
    "* Given an expression object, one can cause Julia to evaluate (execute) it at _**global scope**_ using `eval`.\n",
    "    * Executing `eval` can also have side-effects that alter the state of the enclosing module's environment.\n",
    "* Every [module](https://docs.julialang.org/en/v1/manual/modules/#modules-1) has its own `eval` function that evaluates expressions in its global scope.\n",
    "\n",
    "## Functions on `Expr`\n",
    "\n",
    "* A function can also take one or more Expr objects as arguments, and return another `Expr`.\n",
    "* In JPL, it is possible to _**generate and manipulate Julia code within Julia itself**_.\n",
    "\n",
    "## Macro\n",
    "\n",
    "* A macro maps a tuple of arguments to a returned expression.\n",
    "* The resulting expression is compiled directly rather than requiring a runtime `eval` call.\n",
    "* Macros execute when code is parsed. They allow the programmer to generate and include fragments of customized code before the full program is run.\n",
    "\n",
    "### Hygiene\n",
    "\n",
    "When writing a macro, there are usually two concers:\n",
    "\n",
    "1. Macros _**MUST**_ ensure that the variables they introduce in their returned expressions _**do not accidentally clash with existing variables**_ in the surrounding code they expand into.\n",
    "1. A macro may be called in a different module from where it was defined. In this case we need to ensure that _**all global variables are resolved to the correct module**_.\n",
    "\n",
    "How Julia solves the above problems?\n",
    "\n",
    "1. Variables within a macro are classified as either local or global.\n",
    "    * A variable is considered local if it is assigned to (and not declared global), declared local, or used as a function argument name.\n",
    "    * Otherwise, it is considered global.\n",
    "1. Local variables are then renamed to be unique\n",
    "    * using the [gensym](https://docs.julialang.org/en/v1/base/base/#Base.gensym) function, which generates new symbols\n",
    "1. Global variables are resolved within the macro definition environment.\n",
    "\n",
    "Let's see an example:\n",
    "\n",
    "```julia\n",
    "macro time(ex)\n",
    "    return quote\n",
    "        local t0 = time()\n",
    "        local val = $ex\n",
    "        local t1 = time()\n",
    "        println(\"elapsed time: \", t1-t0, \" seconds\")\n",
    "        val\n",
    "    end\n",
    "end\n",
    "```\n",
    "\n",
    "Therefore the macro's locals will not conflict with any user variables, and `time` and `println` refer to the Julia Base definitions.\n",
    "\n",
    "### Escape the macro hygiene\n",
    "\n",
    "* The escaping mechanism can be used to \"violate\" hygiene when necessary, _**in order to introduce or manipulate user variables**_.\n",
    "* Expression escaping is done with [esc](https://docs.julialang.org/en/v1/base/base/#Base.esc).\n",
    "\n",
    "The following descriptions are from Julia's manual. I cannot understand it very well right now. Just paste them here.\n",
    "\n",
    ">Getting the hygiene rules correct can be a formidable challenge.\n",
    ">1. Before using a macro, you might want to consider whether a function closure would be sufficient.\n",
    ">1. Another useful strategy is to defer as much work as possible to runtime.\n",
    ">\n",
    ">For example, many macros simply wrap their arguments in a QuoteNode or other similar Expr. Some examples of this include `@task body` which simply `returns schedule(Task(() -> $body))`, and `@eval expr`, which simply `returns eval(QuoteNode(expr))`.\n"
   ]
  }
 ],
 "metadata": {
  "kernelspec": {
   "display_name": "Julia 1.1.0-DEV",
   "language": "julia",
   "name": "julia-1.1"
  },
  "language_info": {
   "file_extension": ".jl",
   "mimetype": "application/julia",
   "name": "julia",
   "version": "1.1.0"
  }
 },
 "nbformat": 4,
 "nbformat_minor": 2
}
