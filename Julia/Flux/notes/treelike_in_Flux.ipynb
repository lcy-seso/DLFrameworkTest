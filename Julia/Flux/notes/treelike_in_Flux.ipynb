{
 "cells": [
  {
   "cell_type": "code",
   "execution_count": 1,
   "metadata": {},
   "outputs": [
    {
     "data": {
      "text/plain": [
       "@treelike (macro with 2 methods)"
      ]
     },
     "execution_count": 1,
     "metadata": {},
     "output_type": "execute_result"
    }
   ],
   "source": [
    "# Let's first see the implementation of the macro treelike in Flux\n",
    "\n",
    "macro treelike(T, fs = nothing)\n",
    "  fs == nothing || isexpr(fs, :tuple) || error(\"@treelike T (a, b)\")\n",
    "  fs = fs == nothing ? [] : [:($(map(QuoteNode, fs.args)...),)]\n",
    "  :(treelike(@__MODULE__, $(esc(T)), $(fs...)))\n",
    "end"
   ]
  },
  {
   "cell_type": "markdown",
   "metadata": {},
   "source": [
    "* about [nothing](https://docs.julialang.org/en/v1/base/constants/#Core.nothing)\n",
    "* about [esc](https://docs.julialang.org/en/v1/base/base/#Base.esc)\n",
    "* [QuoteNode](https://docs.julialang.org/en/v1/manual/metaprogramming/#QuoteNode-1): hard to understand by this simple documents."
   ]
  },
  {
   "cell_type": "code",
   "execution_count": null,
   "metadata": {},
   "outputs": [],
   "source": []
  }
 ],
 "metadata": {
  "kernelspec": {
   "display_name": "Julia 1.1.0-DEV",
   "language": "julia",
   "name": "julia-1.1"
  },
  "language_info": {
   "file_extension": ".jl",
   "mimetype": "application/julia",
   "name": "julia",
   "version": "1.1.0"
  }
 },
 "nbformat": 4,
 "nbformat_minor": 2
}
