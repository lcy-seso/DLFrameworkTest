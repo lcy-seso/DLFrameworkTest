{
 "cells": [
  {
   "cell_type": "markdown",
   "metadata": {},
   "source": [
    "Zygote exports 5 interfaces. All can be found in [src/compiler/interface.jl](https://github.com/FluxML/Zygote.jl/blob/master/src/compiler/interface.jl)\n",
    "\n",
    "1. [Params](https://github.com/FluxML/Zygote.jl/blob/7c1ad4194e/src/compiler/interface.jl#L77)\n",
    "    ```julia\n",
    "    struct Params\n",
    "      params::IdSet{Any}\n",
    "      Params(xs) = new(IdSet(xs))\n",
    "    end\n",
    "    ```\n",
    "\n",
    "1. [gradient]()\n",
    "    ```julia\n",
    "    function gradient(f, args...)\n",
    "      y, back = forward(f, args...)\n",
    "      y isa Real || error(\"Function output is not scalar\")\n",
    "      return back(Int8(1))\n",
    "    end\n",
    "    ```\n",
    "\n",
    "1. derivative\n",
    "    ```julia\n",
    "    derivative(f::F, x) where F = gradient(f, x)[1]\n",
    "    ```\n",
    "\n",
    "1. [forward](https://github.com/FluxML/Zygote.jl/blob/master/src/compiler/interface.jl#L36)\n",
    "\n",
    "    There are two function overloadings of `forward`.\n",
    "    \n",
    "    ```julia\n",
    "    function forward(f, args...)\n",
    "      y, back = _forward(f, args...)\n",
    "      y, Δ -> tailmemaybe(back(Δ))\n",
    "    end\n",
    "\n",
    "    function forward(f, ps::Params)\n",
    "      cx = Context()\n",
    "      y, back = _forward(cx, f)\n",
    "      y, function (Δ)\n",
    "        for p in ps\n",
    "          cache(cx)[p] = nothing\n",
    "        end\n",
    "        back(Δ)\n",
    "        Grads(cx.cache) # TODO make a copy\n",
    "      end\n",
    "    end\n",
    "    ```\n",
    "\n",
    "1. [@code_grad](https://github.com/FluxML/Zygote.jl/blob/7c1ad4194e1857f213b4955f89315cffe4543d2f/src/compiler/interface.jl#L83)\n",
    "    Comment by the author."
   ]
  },
  {
   "cell_type": "code",
   "execution_count": 2,
   "metadata": {},
   "outputs": [
    {
     "data": {
      "text/plain": [
       "([1.0 2.0 3.0; 1.0 2.0 3.0], [1.0, 1.0])"
      ]
     },
     "execution_count": 2,
     "metadata": {},
     "output_type": "execute_result"
    }
   ],
   "source": [
    "using Zygote\n",
    "\n",
    "W, b = rand(2, 3), rand(2)\n",
    "y(x) = W * x .+ b\n",
    "\n",
    "ps = Params([W, b])\n",
    "\n",
    "# Do block and and anonymous function\n",
    "# https://docs.julialang.org/en/v1/manual/functions/index.html#Do-Block-Syntax-for-Function-Arguments-1\n",
    "g, _ = gradient(ps) do\n",
    "  sum(y([1, 2, 3]))\n",
    "end\n",
    "\n",
    "g[W], g[b]"
   ]
  },
  {
   "cell_type": "code",
   "execution_count": 4,
   "metadata": {},
   "outputs": [
    {
     "name": "stdout",
     "output_type": "stream",
     "text": [
      "\n",
      "; Function getindex\n",
      "; Location: tuple.jl:24\n",
      "define nonnull %jl_value_t addrspace(10)* @julia_getindex_37280(%jl_value_t addrspace(10)* nonnull align 8 dereferenceable(16), i64) {\n",
      "top:\n",
      "  %2 = add i64 %1, -1\n",
      "  %3 = icmp ult i64 %2, 2\n",
      "  br i1 %3, label %pass, label %fail\n",
      "\n",
      "fail:                                             ; preds = %top\n",
      "  %4 = addrspacecast %jl_value_t addrspace(10)* %0 to %jl_value_t addrspace(12)*\n",
      "  call void @jl_bounds_error_int(%jl_value_t addrspace(12)* %4, i64 %1)\n",
      "  unreachable\n",
      "\n",
      "pass:                                             ; preds = %top\n",
      "  %5 = bitcast %jl_value_t addrspace(10)* %0 to %jl_value_t addrspace(10)* addrspace(10)*\n",
      "  %6 = addrspacecast %jl_value_t addrspace(10)* addrspace(10)* %5 to %jl_value_t addrspace(10)* addrspace(11)*\n",
      "  %7 = getelementptr inbounds %jl_value_t addrspace(10)*, %jl_value_t addrspace(10)* addrspace(11)* %6, i64 %2\n",
      "  %8 = load %jl_value_t addrspace(10)*, %jl_value_t addrspace(10)* addrspace(11)* %7, align 8\n",
      "  ret %jl_value_t addrspace(10)* %8\n",
      "}\n"
     ]
    },
    {
     "data": {
      "text/plain": [
       "([8, 10, 12], [2, 4, 6])"
      ]
     },
     "execution_count": 4,
     "metadata": {},
     "output_type": "execute_result"
    }
   ],
   "source": [
    "# How to use gradient\n",
    "\n",
    "g = gradient((x, y) -> sum(x .* y), [1, 2, 3], [4, 5, 6])\n",
    "\n",
    "g[1] ## this is the gradient of the two inputs\n",
    "@code_llvm g[2]\n",
    "\n",
    "# this is the gradient function which has 1 input: the recieved gradient\n",
    "g[2](2)"
   ]
  },
  {
   "cell_type": "markdown",
   "metadata": {},
   "source": [
    "```julia\n",
    "@generated function _forward(Δ::Tuple, f, args...)\n",
    "  T = Tuple{f,args...}\n",
    "  meta = IRTools.meta(T)\n",
    "  forw = record(IR(meta))\n",
    "  pushfirst!(forw.args, Any, Any)\n",
    "  argnames!(meta, Symbol(\"#self#\"), :Δ, :f, :args)\n",
    "  forw = varargs!(meta, forw, 3)\n",
    "  forw = slots!(forw)\n",
    "  return IRTools.update!(meta, forw)\n",
    "end\n",
    "```"
   ]
  }
 ],
 "metadata": {
  "kernelspec": {
   "display_name": "Julia 1.0.0",
   "language": "julia",
   "name": "julia-1.0"
  },
  "language_info": {
   "file_extension": ".jl",
   "mimetype": "application/julia",
   "name": "julia",
   "version": "1.0.0"
  }
 },
 "nbformat": 4,
 "nbformat_minor": 2
}
