{
 "cells": [
  {
   "cell_type": "markdown",
   "metadata": {},
   "source": [
    "# Types\n",
    "\n",
    "1. **Static type systems**\n",
    "    - Every program expression must have a type computable before the execution of the program\n",
    "1. **Dynamic type systems**\n",
    "    - Nothing is known about types until run time when the actual values manipulated by the program are available.\n",
    "    \n",
    "**Polymorphism**: the ability to write code that can operate on different types.\n",
    "\n",
    "## Julia's Type system: dynamic, nominative and parametric\n",
    "\n",
    "- Some references:\n",
    "    - [Nominative And Structural Typing](http://wiki.c2.com/?NominativeAndStructuralTyping)\n",
    "    - [Type system](https://en.wikipedia.org/wiki/Type_system)\n",
    "\n",
    "**Julia's type system is dynamic, but it possible to indicate that certain values are of specific types.**\n",
    "\n",
    "- Default behavior when types are omitted: allow values to be of any type.\n",
    "- Adding annotations serves three primary purposes:\n",
    "    1. to take advantage of Julia's multiple-dispatch mechanism\n",
    "    1. to improve human readability\n",
    "    1. to catch programmer errors\n",
    "\n",
    "Benefits of Julia's type system design:\n",
    "\n",
    "1. Great assistance in generating efficient code.\n",
    "1. [_**more significantly**_ ??] Allows method dispatch on the types of function arguments to be deeply integrated with the language.\n",
    "    - Method dispatch is rooted in the type system presented here.\n",
    "    \n",
    "### Notes (and how to understand these concretely?)\n",
    "\n",
    "1. All values in Julia are **true objects** having a type that belongs to a single, fully connected type graph, all nodes of which are equally first-class as types.\n",
    "\n",
    "   > In mainstream object oriented languages, such as C++, Java, Python and Ruby, [composite types](https://en.wikipedia.org/wiki/Composite_data_type) also have named functions associated with them, and the combination is called an \"object\".\n",
    "\n",
    "1. There is no meaningful concept of a \"compile-time type\": the **only type** a value has is its actual _**type when the program is running**_.\n",
    "\n",
    "    - _**So how to understand \"type\" in static analysis (before codes are compiled), and what role it plays before codes are compiled? Maybe have something to do with multiple dispatch?**_\n",
    "\n",
    "1. Only values, not variables, have types – variables are simply names bound to values.\n",
    "1. Both abstract and concrete types can be parameterized by symbols, by values of any type for which `isbits` returns true.\n",
    "\n",
    "## Different Types in Julia\n",
    "\n",
    "### Abstract Types\n",
    "\n",
    "- Abstract types cannot be instantiated, and serve **only** as nodes in the type graph.\n",
    "    - So do edges in the type graph have special meanings and play special roles?\n",
    "- Abstrac types are the backbone of the type system because they form the conceptual hierarchy which makes Julia's type system more than just a collection of object implementations.\n",
    "\n",
    "### Primitive Tyeps\n",
    "\n",
    "A primitive type is a concrete type whose data consists of plain old bits. \n",
    "\n",
    "### Declared Types\n"
   ]
  },
  {
   "cell_type": "code",
   "execution_count": null,
   "metadata": {},
   "outputs": [],
   "source": []
  }
 ],
 "metadata": {
  "kernelspec": {
   "display_name": "Julia 1.0.0",
   "language": "julia",
   "name": "julia-1.0"
  },
  "language_info": {
   "file_extension": ".jl",
   "mimetype": "application/julia",
   "name": "julia",
   "version": "1.0.0"
  }
 },
 "nbformat": 4,
 "nbformat_minor": 2
}
