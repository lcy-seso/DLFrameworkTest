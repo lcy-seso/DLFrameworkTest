{
 "cells": [
  {
   "cell_type": "code",
   "execution_count": 1,
   "id": "5d233f48-8524-4587-b155-04cf279713f8",
   "metadata": {},
   "outputs": [
    {
     "name": "stdout",
     "output_type": "stream",
     "text": [
      "inverst(T)\n",
      "[[ 0.  0.  1.  0.]\n",
      " [ 0.  1.  0.  0.]\n",
      " [ 1. -1.  0.  0.]\n",
      " [ 0.  0.  0.  1.]]\n"
     ]
    }
   ],
   "source": [
    "import numpy as np\n",
    "from numpy.linalg import inv\n",
    "from sympy import Matrix\n",
    "\n",
    "T = np.array([\n",
    "    [0, 1, 1, 0],\n",
    "    [0, 1, 0, 0],\n",
    "    [1, 0, 0, 0],\n",
    "    [0, 0, 0, 1]\n",
    "], dtype=float)\n",
    "\n",
    "print(\"inverst(T)\")\n",
    "print(inv(T))"
   ]
  },
  {
   "cell_type": "code",
   "execution_count": 2,
   "id": "d889a94a-b3d8-4473-b463-f90bb100cfe9",
   "metadata": {},
   "outputs": [
    {
     "name": "stdout",
     "output_type": "stream",
     "text": [
      "transformed A_x:\n",
      "[[0. 1. 1. 0.]\n",
      " [0. 1. 0. 0.]\n",
      " [1. 0. 0. 0.]\n",
      " [0. 0. 0. 0.]]\n",
      "transformed offset:\n",
      "[ 0. -1.  0.  0.]\n"
     ]
    }
   ],
   "source": [
    "# access x\n",
    "A_x = [\n",
    "    [1, 0, 0, 0],\n",
    "    [0, 1, 0, 0],\n",
    "    [0, 0, 1, 0],\n",
    "    [0, 0, 0, 0]\n",
    "]\n",
    "offset_x = np.array([0, -1, 0, 0], dtype=float)\n",
    "\n",
    "# print(\"null space of A_x:\")\n",
    "# A_x = Matrix(A_x)\n",
    "# print(A1.nullspace())\n",
    "\n",
    "print(\"transformed A_x:\")\n",
    "A_x = np.array(A_x, dtype=float)\n",
    "print(A_x @ T)\n",
    "print(\"transformed offset:\")\n",
    "print(offset_x.transpose() @ T)"
   ]
  },
  {
   "cell_type": "code",
   "execution_count": 3,
   "id": "54dcf854-7fe7-43be-8133-8f34c05fe79c",
   "metadata": {},
   "outputs": [
    {
     "name": "stdout",
     "output_type": "stream",
     "text": [
      "\n",
      "transformed A_s:\n",
      "[[0. 1. 1. 0.]\n",
      " [0. 1. 0. 0.]\n",
      " [1. 0. 0. 0.]\n",
      " [0. 0. 0. 1.]]\n",
      "transformed offset:\n",
      "[-1.  0.  0.  0.]\n"
     ]
    }
   ],
   "source": [
    "# access s\n",
    "\n",
    "A_s = [\n",
    "    [1, 0, 0, 0],\n",
    "    [0, 1, 0, 0],\n",
    "    [0, 0, 1, 0],\n",
    "    [0, 0, 0, 1]\n",
    "]\n",
    "offset_s = np.array([0, 0, -1, 0], dtype=float)\n",
    "\n",
    "# print(\"\\nnull space of A_s:\")\n",
    "# A_s = Matrix(A_s)\n",
    "# print(A_s.nullspace())\n",
    "\n",
    "print(\"\\ntransformed A_s:\")\n",
    "A_s = np.array(A_s, dtype=float)\n",
    "print(A_s @ T)\n",
    "print(\"transformed offset:\")\n",
    "print(offset_s.transpose() @ T)"
   ]
  },
  {
   "cell_type": "code",
   "execution_count": 4,
   "id": "aecd110a-5bc0-40d2-a134-9c09224cd7a5",
   "metadata": {},
   "outputs": [
    {
     "name": "stdout",
     "output_type": "stream",
     "text": [
      "\n",
      "transformed A_w:\n",
      "[[0. 1. 0. 0.]\n",
      " [0. 0. 0. 1.]\n",
      " [0. 0. 0. 0.]\n",
      " [0. 0. 0. 0.]]\n"
     ]
    }
   ],
   "source": [
    "# access w\n",
    "A_w = [\n",
    "    [0, 1, 0, 0],\n",
    "    [0, 0, 0, 1],\n",
    "    [0, 0, 0, 0],\n",
    "    [0, 0, 0, 0]\n",
    "]\n",
    "# print(\"\\nnull space of A_w:\")\n",
    "# A_w = Matrix(A_w)\n",
    "# print(A_w.nullspace())\n",
    "\n",
    "print(\"\\ntransformed A_w:\")\n",
    "A_w = np.array(A_w, dtype=float)\n",
    "print(A_w @ T)"
   ]
  },
  {
   "cell_type": "code",
   "execution_count": 5,
   "id": "9bc40150-f659-492c-9764-4bdaf7150395",
   "metadata": {},
   "outputs": [
    {
     "name": "stdout",
     "output_type": "stream",
     "text": [
      "inverst(T2)\n",
      "[[ 0.  0.  1.  0.]\n",
      " [ 1. -1.  0.  0.]\n",
      " [ 0.  1.  0.  0.]\n",
      " [ 0.  0.  0.  1.]]\n"
     ]
    }
   ],
   "source": [
    "T2 = np.array([\n",
    "    [0, 1, 1, 0],\n",
    "    [0, 0, 1, 0],\n",
    "    [1, 0, 0, 0],\n",
    "    [0, 0, 0, 1]\n",
    "], dtype=float)\n",
    "\n",
    "print(\"inverst(T2)\")\n",
    "print(inv(T2))"
   ]
  },
  {
   "cell_type": "code",
   "execution_count": 6,
   "id": "931a6c35-7665-4694-8bcb-446c3aa13939",
   "metadata": {},
   "outputs": [
    {
     "name": "stdout",
     "output_type": "stream",
     "text": [
      "transformed A_x:\n",
      "[[0. 1. 1. 0.]\n",
      " [0. 0. 1. 0.]\n",
      " [1. 0. 0. 0.]\n",
      " [0. 0. 0. 0.]]\n",
      "transformed offset:\n",
      "[ 0.  0. -1.  0.]\n"
     ]
    }
   ],
   "source": [
    "print(\"transformed A_x:\")\n",
    "A_x = np.array(A_x, dtype=float)\n",
    "print(A_x @ T2)\n",
    "print(\"transformed offset:\")\n",
    "print(offset_x.transpose() @ T2)"
   ]
  },
  {
   "cell_type": "code",
   "execution_count": 7,
   "id": "66d80ba4-bd64-4e5c-baeb-690e5ce317a4",
   "metadata": {},
   "outputs": [
    {
     "name": "stdout",
     "output_type": "stream",
     "text": [
      "\n",
      "transformed A_s:\n",
      "[[0. 1. 1. 0.]\n",
      " [0. 0. 1. 0.]\n",
      " [1. 0. 0. 0.]\n",
      " [0. 0. 0. 1.]]\n",
      "transformed offset:\n",
      "[-1.  0.  0.  0.]\n"
     ]
    }
   ],
   "source": [
    "print(\"\\ntransformed A_s:\")\n",
    "A_s = np.array(A_s, dtype=float)\n",
    "print(A_s @ T2)\n",
    "print(\"transformed offset:\")\n",
    "print(offset_s.transpose() @ T2)"
   ]
  },
  {
   "cell_type": "code",
   "execution_count": 8,
   "id": "203707b0-7dc1-4e97-8188-aeb8fc6fd619",
   "metadata": {},
   "outputs": [
    {
     "name": "stdout",
     "output_type": "stream",
     "text": [
      "\n",
      "transformed A_w:\n",
      "[[0. 0. 1. 0.]\n",
      " [0. 0. 0. 1.]\n",
      " [0. 0. 0. 0.]\n",
      " [0. 0. 0. 0.]]\n"
     ]
    }
   ],
   "source": [
    "print(\"\\ntransformed A_w:\")\n",
    "A_w = np.array(A_w, dtype=float)\n",
    "print(A_w @ T2)"
   ]
  }
 ],
 "metadata": {
  "kernelspec": {
   "display_name": "Python 3 (ipykernel)",
   "language": "python",
   "name": "python3"
  },
  "language_info": {
   "codemirror_mode": {
    "name": "ipython",
    "version": 3
   },
   "file_extension": ".py",
   "mimetype": "text/x-python",
   "name": "python",
   "nbconvert_exporter": "python",
   "pygments_lexer": "ipython3",
   "version": "3.11.4"
  }
 },
 "nbformat": 4,
 "nbformat_minor": 5
}
