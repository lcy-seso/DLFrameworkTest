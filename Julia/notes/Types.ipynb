{
 "cells": [
  {
   "cell_type": "markdown",
   "metadata": {},
   "source": [
    "# Types\n",
    "\n",
    "1. **Static type systems**\n",
    "    - Every program expression must have a type computable before the execution of the program.\n",
    "1. **Dynamic type systems**\n",
    "    - Nothing is known about types until run time when the actual values manipulated by the program are available.\n",
    "    \n",
    "    >*So, what roles type play at the compile time in Julia?*\n",
    "    \n",
    "**Polymorphism**: the ability to write code that can operate on different types.\n",
    "\n",
    "## Julia's Type system: _**Dynamic**_, _**Nominative**_ and _**Parametric**_\n",
    "\n",
    "- Some references:\n",
    "    - [Nominative And Structural Typing](http://wiki.c2.com/?NominativeAndStructuralTyping)\n",
    "    - [Type system](https://en.wikipedia.org/wiki/Type_system)\n",
    "\n",
    "**Julia's type system is dynamic, but it possible to indicate that certain values are of specific types.**\n",
    "\n",
    "- Default behavior when types are omitted: allow values to be of any type.\n",
    "- Adding annotations serves three primary purposes:\n",
    "    1. to take advantage of Julia's multiple-dispatch mechanism\n",
    "    1. to improve human readability\n",
    "    1. to catch programmer errors\n",
    "\n",
    "Benefits of Julia's type system design:\n",
    "\n",
    "1. Great assistance in generating efficient code.\n",
    "1. [_**more significantly**_ ??] Allows method dispatch on the types of function arguments to be deeply integrated with the language.\n",
    "    - Method dispatch is rooted in the type system presented here.\n",
    "    \n",
    "### Notes (and how to understand these concretely?)\n",
    "\n",
    "1. All values in Julia are **true objects** having a type that belongs to a single, fully connected type graph, all nodes of which are equally first-class as types.\n",
    "\n",
    "   > In mainstream object oriented languages, such as C++, Java, Python and Ruby, [composite types](https://en.wikipedia.org/wiki/Composite_data_type) also have named functions associated with them, and the combination is called an \"object\".\n",
    "\n",
    "1. There is no meaningful concept of a \"compile-time type\": the **only type** a value has is its actual _**type when the program is running**_.\n",
    "\n",
    "    - _**So how to understand \"type\" in static analysis (before codes are compiled), and what role it plays before codes are compiled? Maybe have something to do with multiple dispatch?**_\n",
    "\n",
    "1. Only values, not variables, have types – variables are simply names bound to values.\n",
    "1. Both abstract and concrete types can be parameterized by symbols, by values of any type for which `isbits` returns true."
   ]
  },
  {
   "cell_type": "markdown",
   "metadata": {},
   "source": [
    "## Type Declarations\n",
    "\n",
    "The `::` operator can be used to attach type annotations to _**expressions**_ and variables in programs. \n",
    "\n",
    "- When appended to an expression computing a value, the `::` operator is read as \"is an instance of\". "
   ]
  },
  {
   "cell_type": "markdown",
   "metadata": {},
   "source": [
    "## Deeper into Dyanmic Type\n",
    "\n",
    "In a dynamic language:\n",
    "1. **types exist at runtime**\n",
    "1. **type information can be manipulated and introspected at runtime** with the same syntax as everything else is. \n",
    "\n",
    "**NOTE**: _**Types are regular objects at runtime**_."
   ]
  },
  {
   "cell_type": "code",
   "execution_count": 17,
   "metadata": {},
   "outputs": [
    {
     "data": {
      "text/plain": [
       "3-element Array{DataType,1}:\n",
       " Int64  \n",
       " Float32\n",
       " Bool   "
      ]
     },
     "execution_count": 17,
     "metadata": {},
     "output_type": "execute_result"
    }
   ],
   "source": [
    "mytypes = [Int, Float32, Bool]  # Types are regular objects at runtime! We can put them into a list."
   ]
  },
  {
   "cell_type": "code",
   "execution_count": 21,
   "metadata": {},
   "outputs": [
    {
     "name": "stdout",
     "output_type": "stream",
     "text": [
      "MyType <: Any\n",
      "  t1::Signed\n",
      "  t2::Int64\n",
      "  t3::Float32\n"
     ]
    }
   ],
   "source": [
    "a = 15\n",
    "\n",
    "mutable struct MyType\n",
    "    t1 :: supertype(Int)\n",
    "    t2 :: (a > 5 ? typeof(a) : Float64)\n",
    "    t3 :: mytypes[2]\n",
    "end\n",
    "\n",
    "dump(MyType)"
   ]
  },
  {
   "cell_type": "markdown",
   "metadata": {},
   "source": [
    "_**Functions don’t really exist in dynamic languages at the point where they are run**:_\n",
    "- It is at runtime when the program encounters a function definition that the code for it is actually created. In Julia’s case, it is really just **a sort of code template** which is created.\n",
    "- At the time when **calling the function with arguments of specific types**, Julia will:\n",
    "    1. **specialize the function**.\n",
    "    1. have the JIT emit machine code specifically tailored to those particular function arguments.\n",
    "\n",
    "\n",
    "- There is **no clear distinction between compile time and runtime**.\n",
    "- **Functions are compiled as they are encountered at runtime**.\n",
    "- **Statically typed languages care about the type of expressions while dynamically typed languages care about the types of values**. \n",
    "\n",
    "## Reference\n",
    "\n",
    "1. [Types in C/C++ and Julia](https://medium.com/@Jernfrost/types-in-c-c-and-julia-ce0fcbe0dec6)"
   ]
  }
 ],
 "metadata": {
  "kernelspec": {
   "display_name": "Julia 1.0.0",
   "language": "julia",
   "name": "julia-1.0"
  },
  "language_info": {
   "file_extension": ".jl",
   "mimetype": "application/julia",
   "name": "julia",
   "version": "1.0.0"
  }
 },
 "nbformat": 4,
 "nbformat_minor": 2
}
