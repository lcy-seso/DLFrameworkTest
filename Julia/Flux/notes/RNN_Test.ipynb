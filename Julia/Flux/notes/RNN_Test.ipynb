{
 "cells": [
  {
   "cell_type": "code",
   "execution_count": 20,
   "metadata": {},
   "outputs": [
    {
     "data": {
      "text/plain": [
       "3-element Array{TrackedArray{…,Array{Float64,1}},1}:\n",
       " [0.117062 (tracked), -0.412273 (tracked), 0.166795 (tracked)]\n",
       " [0.329022 (tracked), -0.148327 (tracked), 0.33448 (tracked)] \n",
       " [0.3376 (tracked), 0.00139337 (tracked), 0.257275 (tracked)] "
      ]
     },
     "execution_count": 20,
     "metadata": {},
     "output_type": "execute_result"
    }
   ],
   "source": [
    "using Flux\n",
    "\n",
    "seq = [rand(3) for i = 1:3]\n",
    "\n",
    "m = Chain(LSTM(3, 3))\n",
    "m.(seq)"
   ]
  },
  {
   "cell_type": "code",
   "execution_count": null,
   "metadata": {},
   "outputs": [],
   "source": []
  }
 ],
 "metadata": {
  "kernelspec": {
   "display_name": "Julia 1.1.0-DEV",
   "language": "julia",
   "name": "julia-1.1"
  },
  "language_info": {
   "file_extension": ".jl",
   "mimetype": "application/julia",
   "name": "julia",
   "version": "1.1.0"
  }
 },
 "nbformat": 4,
 "nbformat_minor": 2
}
